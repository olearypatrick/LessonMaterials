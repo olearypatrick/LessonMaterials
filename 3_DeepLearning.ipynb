{
  "nbformat": 4,
  "nbformat_minor": 0,
  "metadata": {
    "colab": {
      "name": "DeepLearning.ipynb",
      "provenance": [],
      "toc_visible": true
    },
    "kernelspec": {
      "display_name": "Python 3",
      "language": "python",
      "name": "python3"
    },
    "language_info": {
      "codemirror_mode": {
        "name": "ipython",
        "version": 3
      },
      "file_extension": ".py",
      "mimetype": "text/x-python",
      "name": "python",
      "nbconvert_exporter": "python",
      "pygments_lexer": "ipython3",
      "version": "3.7.6"
    }
  },
  "cells": [
    {
      "cell_type": "markdown",
      "metadata": {
        "id": "4RsMuOM24Nc0"
      },
      "source": [
        "## Machine Learning (ML)"
      ]
    },
    {
      "cell_type": "markdown",
      "metadata": {
        "id": "oNv3Y_1c4Nds"
      },
      "source": [
        "Machine Learning is the practice of using algorithms to analyze data, learn from that data, and then make a determination or prediction about new data. This notebook will introduce Deep Learning, which is a subset of machine learning that attempts to build algorithms called neural networks, which model the structure of the human brain."
      ]
    },
    {
      "cell_type": "markdown",
      "metadata": {
        "id": "zoVmztia4Nd4"
      },
      "source": [
        "### Machine Learning vs. Traditional Programming\n",
        "You may be wondering what the difference between ML and standard programming. For example, if we are building an AI assistant, such as Siri, why can't we just use if-statements and other logic to answer questions. \n",
        "\n",
        "If we think about it a bit more, we realize that there are so many different questions you can ask Siri, and it would be impossible to program an answer to an infinte amount of questions. This means that using traditional programming would not work, and a new approach is needed, which can be Machine Learning"
      ]
    },
    {
      "cell_type": "markdown",
      "metadata": {
        "id": "3oBR9vxX4Nd8"
      },
      "source": [
        "Example: Analyzing the sentament of a popular media outlet and classifying that sentiment as positive or negative\n",
        "\n",
        "- Traditional Programming approach\n",
        " - The algorithm may first look for particular words associated with a negative or positive sentiment.\n",
        " - With conditional statements, the algorithm would classify articles as positive or negative based on the words that it knows are positive or negative.\n",
        " \n",
        "- Machine Learning approach\n",
        " - The algorithm would analyze large amounts of given media data and *learn* the features that classify what a negative article looks like versus a positive article.\n",
        " - With what it's learned, the algorithm could then classify new articles as positive or negative."
      ]
    },
    {
      "cell_type": "markdown",
      "metadata": {
        "id": "CFM9VOarKm_1"
      },
      "source": [
        "<img src=\"https://github.com/Intro-Course-AI-ML/LessonMaterials/blob/master/images/deepLearning.png?raw=1\">\n",
        "\n",
        "This figure explains the relationship between AI, ML, and Deep Learning. As we can see, AI is the overarching concept, and ML is a big portion of AI, and Deep Learning is finally a subset of ML."
      ]
    },
    {
      "cell_type": "markdown",
      "metadata": {
        "id": "X2nH5aTk4NeD"
      },
      "source": [
        "## Deep Learning (DL)"
      ]
    },
    {
      "cell_type": "markdown",
      "metadata": {
        "id": "1Ch2tLtl4NeD"
      },
      "source": [
        "This lesson will cover the most basic idea about what deep learning is and how it’s used. In later lessons, we’ll be cover more detailed concepts, terms, and tools within the field of deep learning.\n",
        "\n",
        "**Definition:**\n",
        "\n",
        "- Deep learning is a subfield of machine learning that uses algorithms inspired by the structure and function of the brain’s neural networks. \n",
        "- As a subfield of ML, DL also algorithms to analyze data, learn from that data, and then make a determination or prediction about new data."
      ]
    },
    {
      "cell_type": "markdown",
      "metadata": {
        "id": "gszjeH7d4NeJ"
      },
      "source": [
        "**Supervised Learning** occurs when your deep learning model learns and makes inferences from data that has already been *labeled*. A label is basically an explanation of what the data is. If we have a picture of a dog and we are trying to classify between cats and dogs, the labels for each would be \"cats\" and \"dogs.\"\n",
        "\n",
        "**Unsupervised Learning** occurs when the model learns and makes inferences from *unlabeled* data. This means we only have data points but no labels for this. This makes learning from this data much more challenging.\n",
        "\n",
        "**Semi-Supervised Learning** occurs when the model has data points with labels and data points without labels. This is a mix of supervised and unsupervised learning because we need supervised methods to use the labeled data and unsupervised methods to use the unlabeled data."
      ]
    },
    {
      "cell_type": "markdown",
      "metadata": {
        "id": "nNqatSNAKm_2"
      },
      "source": [
        "<img src=\"https://github.com/Intro-Course-AI-ML/LessonMaterials/blob/master/images/learningTypes.png?raw=1\">"
      ]
    },
    {
      "cell_type": "markdown",
      "metadata": {
        "id": "Pjx5XaqN4NeL"
      },
      "source": [
        "**Labeled vs. Unlabeled example**\n",
        "\n",
        "- Classify images of cats and dogs"
      ]
    },
    {
      "cell_type": "markdown",
      "metadata": {
        "id": "pV0jMOJR4NeY"
      },
      "source": [
        "### Artificial Neural Networks"
      ]
    },
    {
      "cell_type": "markdown",
      "metadata": {
        "id": "io0eyf6Z4NeZ"
      },
      "source": [
        "Artificial neural networks are deep learning models that are based on the structure of the brain's neural networks. \n",
        "\n",
        "- Artificial neural networks are used interchangeably with the terms\n",
        "  - neural net\n",
        "  - net\n",
        "  - model"
      ]
    },
    {
      "cell_type": "markdown",
      "metadata": {
        "id": "iqPXOJRG4Nef"
      },
      "source": [
        "## Artificial Neural Networks (ANNs)"
      ]
    },
    {
      "cell_type": "markdown",
      "metadata": {
        "id": "L7yAfcA24Nep"
      },
      "source": [
        "Artificial neural networks are computing systems that are inspired by the brain’s neural networks.\n",
        "\n",
        "- These networks are based on a collection of connected units called **artificial neurons**, or **neurons**. \n",
        "- Each connection between neurons can transmit a signal from one neuron to another. \n",
        "- The receiving neuron processes the signal and signals downstream neurons connected to it.\n",
        "- Neurons are organized in layers. There are many different layers in a model\n",
        " - Input layer\n",
        " - Hidden layers\n",
        " - Output layer\n",
        "- These signals are sent from the input layer all the way to the end\n",
        "- Show Picture\n",
        "- Each Neuron is the circle, there are many per layer\n"
      ]
    },
    {
      "cell_type": "markdown",
      "metadata": {
        "id": "uk6GfT9WKm_4"
      },
      "source": [
        "<img src=\"https://github.com/Intro-Course-AI-ML/LessonMaterials/blob/master/images/ANN.png?raw=1\">"
      ]
    },
    {
      "cell_type": "markdown",
      "metadata": {
        "id": "1SRICo1s4Ner"
      },
      "source": [
        "### Keras Sequential Model"
      ]
    },
    {
      "cell_type": "markdown",
      "metadata": {
        "id": "9ATLOSIv4New"
      },
      "source": [
        "The Sequential model is a linear stack of layers. The following network we coded has 3 layers, the first with 10 nodes, the second with 32, and the last with 2."
      ]
    },
    {
      "cell_type": "code",
      "metadata": {
        "id": "AuyyP0Ym4Nex"
      },
      "source": [
        "from keras.models import Sequential\n",
        "from keras.layers import Dense, Activation\n",
        "\n",
        "model = Sequential([\n",
        "    Dense(32, input_shape=(10,), activation='relu'), # Input Layer\n",
        "    Dense(2, activation='softmax'), # Output Layer\n",
        "])"
      ],
      "execution_count": null,
      "outputs": []
    },
    {
      "cell_type": "markdown",
      "metadata": {
        "collapsed": true,
        "id": "aCTe2fbl4Nf3"
      },
      "source": [
        "## Layers in an ANN"
      ]
    },
    {
      "cell_type": "markdown",
      "metadata": {
        "collapsed": true,
        "id": "SQwSI0Q_4Nf7"
      },
      "source": [
        "Artificial neural network are typically organized in layers. \n",
        "Different types of layers include (you will learn about these later)\n",
        "\n",
        "- Dense (or fully connected) Layers (connects each input to each output in every layer)\n",
        "- Convolutional layers (for images)\n",
        "- Pooling Layers\n",
        "- Recurrent Layers (good for time series data)\n",
        "- Normalization Layers\n",
        "- Many others\n",
        "\n",
        "There are different types of layers because each node and each layer does different types of transformations based on its inputs. Some are better for other tasks, such as Convolutional Layers for images or recurreny layers for time series data. \n",
        "\n",
        "Each node in a layer represents an individual feature for each sample within our dataset. Each input is connected to each node in the hidden layer. The input is then transformed into another output. \n",
        "\n",
        "Each connection is called a weight. This is just a number 0-1, it is the strength of the connection between the nodes. The input will be multiplied by the input, and a weighted sum of every weight will be calculated, and that is passed to an activation function that will transform the result to a number 0-1. This is a per nueron basis. \n",
        "\n",
        "That result is then passed on to the next neuron in the next layer, occurs over and over until it gets to the output. \n",
        "\n",
        "The model learns how to adjust these weights so that it is omptimized and can make the best predictions.\n",
        "\n",
        "The last layer contains as many nodes as there are classes. For example, if it was predicting if a drawing was a number 0-9, there would be 10 nodes, and if it was if the picture is a cat or dog, it would have two outputs. \n",
        "\n",
        "  "
      ]
    },
    {
      "cell_type": "markdown",
      "metadata": {
        "id": "xh_bSBFyKm_7"
      },
      "source": [
        "<img src=\"https://github.com/Intro-Course-AI-ML/LessonMaterials/blob/master/images/weights.png?raw=1\">"
      ]
    },
    {
      "cell_type": "code",
      "metadata": {
        "id": "QsAXMLSc4Nf8"
      },
      "source": [
        "from keras.models import Sequential\n",
        "from keras.layers import Dense, Activation\n",
        "\n",
        "model = Sequential([\n",
        "    Dense(5, input_shape=(3,), activation='relu'),\n",
        "    Dense(2, activation='softmax'),\n",
        "])"
      ],
      "execution_count": null,
      "outputs": []
    },
    {
      "cell_type": "code",
      "metadata": {
        "colab": {
          "base_uri": "https://localhost:8080/",
          "height": 276
        },
        "id": "-EsMdKIq4NgP",
        "outputId": "755c0e35-0072-4059-e8b4-9080a00e238f"
      },
      "source": [
        "import numpy as np\n",
        "from scipy import ndimage\n",
        "import matplotlib.pyplot as plt\n",
        "%matplotlib inline\n",
        "\n",
        "img = np.expand_dims(plt.imread('https://github.com/olearypatrick/LessonMaterials/raw/master/images/NN.png'),0)\n",
        "plt.imshow(img[0])"
      ],
      "execution_count": 33,
      "outputs": [
        {
          "output_type": "execute_result",
          "data": {
            "text/plain": [
              "<matplotlib.image.AxesImage at 0x7fd5328ed358>"
            ]
          },
          "metadata": {
            "tags": []
          },
          "execution_count": 33
        },
        {
          "output_type": "display_data",
          "data": {
            "image/png": "[encoded data removed]",
            "text/plain": [
              "<Figure size 432x288 with 1 Axes>"
            ]
          },
          "metadata": {
            "tags": [],
            "needs_background": "light"
          }
        }
      ]
    },
    {
      "cell_type": "markdown",
      "metadata": {
        "collapsed": true,
        "id": "bJDejILY4Ngb"
      },
      "source": [
        "## Activation Functions"
      ]
    },
    {
      "cell_type": "markdown",
      "metadata": {
        "collapsed": true,
        "id": "F58PNjGZ4Ngc"
      },
      "source": [
        "In an artificial neural network, the activation function of a neuron defines the output of that neuron given a set of inputs.\n",
        "\n",
        "- The activation function takes the weighted sum of each connection and passed it to an activation function, and transforms it using some calculation. \n",
        " - output = activation(weighted sum of inputs)\n",
        " - One example is sigmoid. The function itself is e^2/e^(x+1). If the input is above 0, the output will be towards one, and vice versa. (show picture of sigmoid function)\n",
        "- Biologically inspired by activity in our brains, where different neurons \n",
        "fire, or are *activated*, by different stimuli. \n",
        " - If you smell something nice, it will fire certain neurons to give you a certain reaction.\n",
        " - Nuerons are either activated (1), or not activated (0). The closer to 1, the more activated, and the closer to 0, the less activated. \n",
        "- Not always (-1, 1). ReLu, a common activation function, is 0 to the input number. \n",
        " - There are many different activation functions that all have different functions. At the end of networks, most often either a sigmoid or softmax activation function is used. These two functions give probabilities for each predicted class."
      ]
    },
    {
      "cell_type": "markdown",
      "metadata": {
        "id": "3yAlC96rKm_9"
      },
      "source": [
        "<img src=\"https://github.com/Intro-Course-AI-ML/LessonMaterials/blob/master/images/sigmoid.png?raw=1\">"
      ]
    },
    {
      "cell_type": "code",
      "metadata": {
        "id": "YYOXgWJH4Ngi"
      },
      "source": [
        "from keras.models import Sequential\n",
        "from keras.layers import Dense, Activation\n",
        "\n",
        "model = Sequential([\n",
        "    Dense(5, input_shape=(3,), activation='relu')\n",
        "])"
      ],
      "execution_count": 34,
      "outputs": []
    },
    {
      "cell_type": "code",
      "metadata": {
        "id": "x30VKYxE4Ng4"
      },
      "source": [
        "model = Sequential()\n",
        "model.add(Dense(5, input_shape=(3,)))\n",
        "model.add(Activation('relu'))"
      ],
      "execution_count": 35,
      "outputs": []
    },
    {
      "cell_type": "markdown",
      "metadata": {
        "id": "EwJh9fVeKm_-"
      },
      "source": [
        "<img src=\"https://github.com/Intro-Course-AI-ML/LessonMaterials/blob/master/images/relu.png?raw=1\">"
      ]
    },
    {
      "cell_type": "markdown",
      "metadata": {
        "id": "tLlUn0jk4Ng8"
      },
      "source": [
        "### Pre-process data for training\n",
        "Data isn't always going to be given to you in a proper format. You will have to process the data and standarize them, which means make them all the same size, and various other tasks. However, if this is challenging, do not worry, because this isn't technically machine learning or AI. It is rather part of data science, which goes hand in hand with AI/ML. This can be tedious, but you will learn more syntax and strategies as you practice more."
      ]
    },
    {
      "cell_type": "code",
      "metadata": {
        "id": "Umbmyxws4Ng9"
      },
      "source": [
        "import numpy as np\n",
        "from random import randint\n",
        "from sklearn.preprocessing import MinMaxScaler"
      ],
      "execution_count": 36,
      "outputs": []
    },
    {
      "cell_type": "code",
      "metadata": {
        "id": "eg85ZSsE4NhB"
      },
      "source": [
        "train_labels =  []\n",
        "train_samples = []"
      ],
      "execution_count": 38,
      "outputs": []
    },
    {
      "cell_type": "markdown",
      "metadata": {
        "id": "yKiC8Xly4NhJ"
      },
      "source": [
        "Example data: \n",
        "- An experiemental drug was tested on individuals from ages 13 to 100. \n",
        "- The trial had 2100 participants. Half were under 65 years old, half were over 65 years old.\n",
        "- 95% of patientes 65 or older experienced side effects.\n",
        "- 95% of patients under 65 experienced no side effects."
      ]
    },
    {
      "cell_type": "code",
      "metadata": {
        "id": "SEHl6cqY4NhL"
      },
      "source": [
        "for i in range(50):\n",
        "    # The 5% of younger individuals who did experience side effects\n",
        "    random_younger = randint(13,64)\n",
        "    train_samples.append(random_younger)\n",
        "    train_labels.append(1)\n",
        "    \n",
        "    # The 5% of older individuals who did not experience side effects\n",
        "    random_older = randint(65,100)\n",
        "    train_samples.append(random_older)\n",
        "    train_labels.append(0)\n",
        "\n",
        "for i in range(950):\n",
        "    # The 95% of younger individuals who did not experience side effects\n",
        "    random_younger = randint(13,64)\n",
        "    train_samples.append(random_younger)\n",
        "    train_labels.append(0)\n",
        "    \n",
        "    # The 95% of older individuals who did experience side effects\n",
        "    random_older = randint(65,100)\n",
        "    train_samples.append(random_older)\n",
        "    train_labels.append(1)"
      ],
      "execution_count": 39,
      "outputs": []
    },
    {
      "cell_type": "code",
      "metadata": {
        "id": "sHHB-l9H4NiK"
      },
      "source": [
        "train_labels = np.array(train_labels)\n",
        "train_samples = np.array(train_samples)"
      ],
      "execution_count": 40,
      "outputs": []
    },
    {
      "cell_type": "code",
      "metadata": {
        "id": "RwxWZGlL4NiR"
      },
      "source": [
        "scaler = MinMaxScaler(feature_range=(0,1))\n",
        "scaled_train_samples = scaler.fit_transform((train_samples).reshape(-1,1))"
      ],
      "execution_count": 42,
      "outputs": []
    },
    {
      "cell_type": "markdown",
      "metadata": {
        "collapsed": true,
        "id": "GJXGu7Cr4Nig"
      },
      "source": [
        "## Training"
      ]
    },
    {
      "cell_type": "markdown",
      "metadata": {
        "collapsed": true,
        "id": "m_W-5pEU4Nih"
      },
      "source": [
        "Solving an optimization problem\n",
        " - Optimizing weights\n",
        "  - with Stochastic Gradient Descent (SGD)\n",
        "  - Optimiziers can change the values of the weights based on what it learns. \n",
        "  - The objective is to reduce a loss function. We will talk about this later, but basically we give the model data and labels. If you give it a picture per say, it will predict either 0 or 1, then you tell it the real value, and then it knows how much it needs to change, since it outputs probabilities. \n",
        "  - The loss is the error of what the model is predicting of the image against what it really is, so it knows how and what it has to change to get closer to 0.\n",
        "  - The more data and the more times you give it data, the better it can learn how to change its parameters and weights. It originally starts with completely random weights and changes them progressively. \n",
        "  - The model will then compete the gradient of the loss function, or the derivative(slope) of the variables. \n",
        " - Objective: Minimize the loss function"
      ]
    },
    {
      "cell_type": "markdown",
      "metadata": {
        "id": "LlTTz1ewKnAF"
      },
      "source": [
        "<img src=\"https://github.com/Intro-Course-AI-ML/LessonMaterials/blob/master/images/SGD.jpeg?raw=1\">"
      ]
    },
    {
      "cell_type": "markdown",
      "metadata": {
        "id": "rUyjCyK84Nih"
      },
      "source": [
        "## Learning"
      ]
    },
    {
      "cell_type": "code",
      "metadata": {
        "id": "tfsqfjMq4Nii"
      },
      "source": [
        "import keras\n",
        "from keras import backend as K\n",
        "from keras.models import Sequential\n",
        "from keras.layers import Activation\n",
        "from keras.layers.core import Dense\n",
        "from keras.optimizers import Adam\n",
        "from keras.metrics import categorical_crossentropy"
      ],
      "execution_count": 43,
      "outputs": []
    },
    {
      "cell_type": "code",
      "metadata": {
        "id": "9dWkbSgt4Nil"
      },
      "source": [
        "model = Sequential([\n",
        "    Dense(16, input_shape=(1,), activation='relu'),\n",
        "    Dense(32, activation='relu'),\n",
        "    Dense(2, activation='sigmoid')\n",
        "])"
      ],
      "execution_count": 44,
      "outputs": []
    },
    {
      "cell_type": "code",
      "metadata": {
        "id": "9Zhy9oGV4Nio"
      },
      "source": [
        "model.compile(Adam(lr=.0001), loss='sparse_categorical_crossentropy', metrics=['accuracy'])"
      ],
      "execution_count": 45,
      "outputs": []
    },
    {
      "cell_type": "code",
      "metadata": {
        "id": "VvkusLz34Nir"
      },
      "source": [
        "model.loss = 'sparse_categorical_crossentropy'"
      ],
      "execution_count": 46,
      "outputs": []
    },
    {
      "cell_type": "code",
      "metadata": {
        "colab": {
          "base_uri": "https://localhost:8080/",
          "height": 37
        },
        "id": "QFQpJl_M4Ni8",
        "outputId": "e5bed754-5b2e-45a5-e91c-c98694f5d9ba"
      },
      "source": [
        "model.loss"
      ],
      "execution_count": 47,
      "outputs": [
        {
          "output_type": "execute_result",
          "data": {
            "application/vnd.google.colaboratory.intrinsic+json": {
              "type": "string"
            },
            "text/plain": [
              "'sparse_categorical_crossentropy'"
            ]
          },
          "metadata": {
            "tags": []
          },
          "execution_count": 47
        }
      ]
    },
    {
      "cell_type": "markdown",
      "metadata": {
        "id": "dpa-kUh-4NjY"
      },
      "source": [
        "## Learning Rate\n",
        "\n",
        "A learning rate is just a way of reducing the gradient so it makes incremental and small adjustments. We are basically explaining by what factor we should change our weights in order to optimize them.\n",
        "\n",
        "d(loss)/d(weight) * lr(0.001) \n",
        "\n",
        "To reduce your error, you have to take steps. The learning rate is basically the steps. \n",
        "\n",
        "d(loss)/ d(weightValue) * lr(0.001) = y\n",
        "Then you replace that current weight with weight - y. \n",
        "\n",
        "You have to test and tune to find the best learning rate, but the guidlines are to set it between 0.01 and 0.0001. Setting it too high will overshoot and pass the minimum of the loss function. However, with a lower learning rate, it will take a long time to decrease the loss. "
      ]
    },
    {
      "cell_type": "code",
      "metadata": {
        "id": "hJBjNRi_4NjZ"
      },
      "source": [
        "model.compile(Adam(lr=0.0001), loss='sparse_categorical_crossentropy', metrics=['accuracy'])"
      ],
      "execution_count": 48,
      "outputs": []
    },
    {
      "cell_type": "code",
      "metadata": {
        "id": "oPlO5q874Nje"
      },
      "source": [
        "model.optimizer.lr = 0.01"
      ],
      "execution_count": 49,
      "outputs": []
    },
    {
      "cell_type": "code",
      "metadata": {
        "colab": {
          "base_uri": "https://localhost:8080/"
        },
        "id": "cb05owh54Njg",
        "outputId": "f5955442-657f-49c6-88ad-b389ccdc3103"
      },
      "source": [
        "model.optimizer.lr"
      ],
      "execution_count": 50,
      "outputs": [
        {
          "output_type": "execute_result",
          "data": {
            "text/plain": [
              "<tf.Variable 'learning_rate:0' shape=() dtype=float32, numpy=0.01>"
            ]
          },
          "metadata": {
            "tags": []
          },
          "execution_count": 50
        }
      ]
    },
    {
      "cell_type": "code",
      "metadata": {
        "colab": {
          "base_uri": "https://localhost:8080/"
        },
        "id": "tojX2HZd4Ni_",
        "outputId": "eba5d4fd-00bf-4f56-de16-058f2fbfa1f1"
      },
      "source": [
        "model.fit(scaled_train_samples, train_labels, batch_size=10, epochs=20, shuffle=True, verbose=2)"
      ],
      "execution_count": 51,
      "outputs": [
        {
          "output_type": "stream",
          "text": [
            "Epoch 1/20\n",
            "200/200 - 1s - loss: 0.2984 - accuracy: 0.9045\n",
            "Epoch 2/20\n",
            "200/200 - 0s - loss: 0.2482 - accuracy: 0.9345\n",
            "Epoch 3/20\n",
            "200/200 - 0s - loss: 0.2469 - accuracy: 0.9260\n",
            "Epoch 4/20\n",
            "200/200 - 0s - loss: 0.2346 - accuracy: 0.9380\n",
            "Epoch 5/20\n",
            "200/200 - 0s - loss: 0.2318 - accuracy: 0.9340\n",
            "Epoch 6/20\n",
            "200/200 - 0s - loss: 0.2303 - accuracy: 0.9360\n",
            "Epoch 7/20\n",
            "200/200 - 0s - loss: 0.2280 - accuracy: 0.9365\n",
            "Epoch 8/20\n",
            "200/200 - 0s - loss: 0.2267 - accuracy: 0.9395\n",
            "Epoch 9/20\n",
            "200/200 - 0s - loss: 0.2218 - accuracy: 0.9425\n",
            "Epoch 10/20\n",
            "200/200 - 0s - loss: 0.2222 - accuracy: 0.9385\n",
            "Epoch 11/20\n",
            "200/200 - 0s - loss: 0.2168 - accuracy: 0.9440\n",
            "Epoch 12/20\n",
            "200/200 - 0s - loss: 0.2237 - accuracy: 0.9395\n",
            "Epoch 13/20\n",
            "200/200 - 0s - loss: 0.2184 - accuracy: 0.9415\n",
            "Epoch 14/20\n",
            "200/200 - 0s - loss: 0.2269 - accuracy: 0.9375\n",
            "Epoch 15/20\n",
            "200/200 - 0s - loss: 0.2133 - accuracy: 0.9435\n",
            "Epoch 16/20\n",
            "200/200 - 0s - loss: 0.2167 - accuracy: 0.9430\n",
            "Epoch 17/20\n",
            "200/200 - 0s - loss: 0.2137 - accuracy: 0.9415\n",
            "Epoch 18/20\n",
            "200/200 - 0s - loss: 0.2182 - accuracy: 0.9410\n",
            "Epoch 19/20\n",
            "200/200 - 0s - loss: 0.2160 - accuracy: 0.9410\n",
            "Epoch 20/20\n",
            "200/200 - 0s - loss: 0.2192 - accuracy: 0.9410\n"
          ],
          "name": "stdout"
        },
        {
          "output_type": "execute_result",
          "data": {
            "text/plain": [
              "<tensorflow.python.keras.callbacks.History at 0x7fd5328244a8>"
            ]
          },
          "metadata": {
            "tags": []
          },
          "execution_count": 51
        }
      ]
    },
    {
      "cell_type": "markdown",
      "metadata": {
        "id": "z_HXSDwY_6c-"
      },
      "source": [
        "## Loss\n",
        "An overall loss will be collected, based off the difference between the prediction the model gave and the actual label value. \n",
        "\n",
        "error = output - true\n",
        "= 0.25 - 0 \n",
        "= 0.25 \n",
        "\n",
        "One example is Mean Squared Error(MSE)\n",
        "= square each error for each piece of data, and then average them, and that is the loss. There are lots of different loss functions with different equations and calculations, but they don't really matter right now. "
      ]
    },
    {
      "cell_type": "markdown",
      "metadata": {
        "id": "19Kclc0UKnAI"
      },
      "source": [
        "<img src=\"https://github.com/Intro-Course-AI-ML/LessonMaterials/blob/master/images/MSE.png?raw=1\">"
      ]
    },
    {
      "cell_type": "markdown",
      "metadata": {
        "id": "XqPEEJ064NjC"
      },
      "source": [
        "## Data Sets\n",
        "Train, test, and validation sets, all three are part of the entire dataset. \n",
        "\n",
        "A training set is used for the model to learn from. You give it a piece of data, say an image, and it will predict an output, see the label of that output, and then it will learn how it needs to fix it.\n",
        "\n",
        "A validation set is used during each pass of the entire data. Once all the data has been given to the model, based on what it has learned, it will make predictions on new data it didn't see for training. This gives a good gague of the accuracy of the model on data it hasn't seen. The weights of the model will not be updated based on the validation set.\n",
        " - This is used to learn if the model is overfitting or underfitting. \n",
        "\n",
        "The test set is unlabeled, and it is used to determine how your model is doing after it is completely trained. \n",
        " - The idea of a test set is to make sure that the model can predict on data it has never seen before. "
      ]
    },
    {
      "cell_type": "markdown",
      "metadata": {
        "id": "nltqu-VfKnAI"
      },
      "source": [
        "<img src=\"https://github.com/Intro-Course-AI-ML/LessonMaterials/blob/master/images/differentSets.png?raw=1\">"
      ]
    },
    {
      "cell_type": "markdown",
      "metadata": {
        "id": "7hi3A1zgKnAI"
      },
      "source": [
        "<img src=\"https://github.com/Intro-Course-AI-ML/LessonMaterials/blob/master/images/Test-vs-TrainAcc.png?raw=1\">"
      ]
    },
    {
      "cell_type": "code",
      "metadata": {
        "colab": {
          "base_uri": "https://localhost:8080/"
        },
        "id": "KNWeLnPb4NjC",
        "outputId": "dc7d0d94-7a6f-44ee-e6fc-f9638ddb9927"
      },
      "source": [
        "scaled_train_samples"
      ],
      "execution_count": 52,
      "outputs": [
        {
          "output_type": "execute_result",
          "data": {
            "text/plain": [
              "array([[0.51724138],\n",
              "       [0.8045977 ],\n",
              "       [0.22988506],\n",
              "       ...,\n",
              "       [0.73563218],\n",
              "       [0.34482759],\n",
              "       [0.96551724]])"
            ]
          },
          "metadata": {
            "tags": []
          },
          "execution_count": 52
        }
      ]
    },
    {
      "cell_type": "markdown",
      "metadata": {
        "id": "EycHJ_FSKnAJ"
      },
      "source": [
        "This is an array of data, they are converted into decimals"
      ]
    },
    {
      "cell_type": "code",
      "metadata": {
        "colab": {
          "base_uri": "https://localhost:8080/"
        },
        "id": "PcE4Q3X14NjF",
        "outputId": "0db429ea-c115-4090-ea14-be7d74bccb35"
      },
      "source": [
        "train_labels"
      ],
      "execution_count": 53,
      "outputs": [
        {
          "output_type": "execute_result",
          "data": {
            "text/plain": [
              "array([1, 0, 1, ..., 1, 0, 1])"
            ]
          },
          "metadata": {
            "tags": []
          },
          "execution_count": 53
        }
      ]
    },
    {
      "cell_type": "markdown",
      "metadata": {
        "id": "mHdDiIz5KnAJ"
      },
      "source": [
        "This is a binary classification problem. 1 means a positive label and 0 means a negative label."
      ]
    },
    {
      "cell_type": "code",
      "metadata": {
        "colab": {
          "base_uri": "https://localhost:8080/"
        },
        "id": "zSEVCgZF4NjN",
        "outputId": "484572f3-2ce2-46d0-df21-ff962c9f199e"
      },
      "source": [
        "model.fit(scaled_train_samples, train_labels, validation_split = 0.20, batch_size=10, \n",
        "          epochs=20, shuffle=True, verbose=2)"
      ],
      "execution_count": 55,
      "outputs": [
        {
          "output_type": "stream",
          "text": [
            "Epoch 1/20\n",
            "160/160 - 0s - loss: 0.2460 - accuracy: 0.9300 - val_loss: 0.0638 - val_accuracy: 0.9975\n",
            "Epoch 2/20\n",
            "160/160 - 0s - loss: 0.2461 - accuracy: 0.9312 - val_loss: 0.1070 - val_accuracy: 1.0000\n",
            "Epoch 3/20\n",
            "160/160 - 0s - loss: 0.2471 - accuracy: 0.9331 - val_loss: 0.0613 - val_accuracy: 1.0000\n",
            "Epoch 4/20\n",
            "160/160 - 0s - loss: 0.2451 - accuracy: 0.9319 - val_loss: 0.0620 - val_accuracy: 1.0000\n",
            "Epoch 5/20\n",
            "160/160 - 0s - loss: 0.2559 - accuracy: 0.9250 - val_loss: 0.0856 - val_accuracy: 0.9775\n",
            "Epoch 6/20\n",
            "160/160 - 0s - loss: 0.2469 - accuracy: 0.9325 - val_loss: 0.0737 - val_accuracy: 0.9925\n",
            "Epoch 7/20\n",
            "160/160 - 0s - loss: 0.2507 - accuracy: 0.9281 - val_loss: 0.0830 - val_accuracy: 1.0000\n",
            "Epoch 8/20\n",
            "160/160 - 0s - loss: 0.2428 - accuracy: 0.9350 - val_loss: 0.0861 - val_accuracy: 0.9975\n",
            "Epoch 9/20\n",
            "160/160 - 0s - loss: 0.2447 - accuracy: 0.9312 - val_loss: 0.0843 - val_accuracy: 1.0000\n",
            "Epoch 10/20\n",
            "160/160 - 0s - loss: 0.2479 - accuracy: 0.9294 - val_loss: 0.0551 - val_accuracy: 1.0000\n",
            "Epoch 11/20\n",
            "160/160 - 0s - loss: 0.2451 - accuracy: 0.9344 - val_loss: 0.0834 - val_accuracy: 0.9975\n",
            "Epoch 12/20\n",
            "160/160 - 0s - loss: 0.2482 - accuracy: 0.9306 - val_loss: 0.0631 - val_accuracy: 1.0000\n",
            "Epoch 13/20\n",
            "160/160 - 0s - loss: 0.2537 - accuracy: 0.9269 - val_loss: 0.0805 - val_accuracy: 0.9925\n",
            "Epoch 14/20\n",
            "160/160 - 0s - loss: 0.2458 - accuracy: 0.9319 - val_loss: 0.1038 - val_accuracy: 0.9775\n",
            "Epoch 15/20\n",
            "160/160 - 0s - loss: 0.2472 - accuracy: 0.9306 - val_loss: 0.0786 - val_accuracy: 0.9925\n",
            "Epoch 16/20\n",
            "160/160 - 0s - loss: 0.2451 - accuracy: 0.9312 - val_loss: 0.0755 - val_accuracy: 1.0000\n",
            "Epoch 17/20\n",
            "160/160 - 0s - loss: 0.2551 - accuracy: 0.9275 - val_loss: 0.0776 - val_accuracy: 1.0000\n",
            "Epoch 18/20\n",
            "160/160 - 0s - loss: 0.2479 - accuracy: 0.9300 - val_loss: 0.0841 - val_accuracy: 0.9925\n",
            "Epoch 19/20\n",
            "160/160 - 0s - loss: 0.2456 - accuracy: 0.9312 - val_loss: 0.0817 - val_accuracy: 0.9825\n",
            "Epoch 20/20\n",
            "160/160 - 0s - loss: 0.2445 - accuracy: 0.9312 - val_loss: 0.0599 - val_accuracy: 0.9925\n"
          ],
          "name": "stdout"
        },
        {
          "output_type": "execute_result",
          "data": {
            "text/plain": [
              "<tensorflow.python.keras.callbacks.History at 0x7fd5369d2940>"
            ]
          },
          "metadata": {
            "tags": []
          },
          "execution_count": 55
        }
      ]
    },
    {
      "cell_type": "markdown",
      "metadata": {
        "collapsed": true,
        "id": "4z-S3cqj4Njp"
      },
      "source": [
        "## Predicting"
      ]
    },
    {
      "cell_type": "code",
      "metadata": {
        "id": "xFD779X64Njp"
      },
      "source": [
        "import keras\n",
        "from keras import backend as K\n",
        "from keras.models import Sequential\n",
        "from keras.layers import Activation\n",
        "from keras.layers.core import Dense\n",
        "from keras.optimizers import Adam\n",
        "from keras.metrics import categorical_crossentropy"
      ],
      "execution_count": 56,
      "outputs": []
    },
    {
      "cell_type": "code",
      "metadata": {
        "id": "_v6QW8ti4Njs"
      },
      "source": [
        "model = Sequential([\n",
        "    Dense(16, input_shape=(1,), activation='relu'),\n",
        "    Dense(32, activation='relu'),\n",
        "    Dense(2, activation='sigmoid')\n",
        "])"
      ],
      "execution_count": 57,
      "outputs": []
    },
    {
      "cell_type": "code",
      "metadata": {
        "id": "jYg5KIqG4Njx"
      },
      "source": [
        "model.compile(Adam(lr=.0001), loss='sparse_categorical_crossentropy', metrics=['accuracy'])"
      ],
      "execution_count": 58,
      "outputs": []
    },
    {
      "cell_type": "code",
      "metadata": {
        "colab": {
          "base_uri": "https://localhost:8080/"
        },
        "id": "-0ddHRD94Nj0",
        "outputId": "afdcbb1e-42d7-4ccc-f43e-51d5528c4dae"
      },
      "source": [
        "model.fit(scaled_train_samples, train_labels, batch_size=10, epochs=20, shuffle=True, verbose=2)"
      ],
      "execution_count": 59,
      "outputs": [
        {
          "output_type": "stream",
          "text": [
            "Epoch 1/20\n",
            "200/200 - 0s - loss: 0.6915 - accuracy: 0.5245\n",
            "Epoch 2/20\n",
            "200/200 - 0s - loss: 0.6549 - accuracy: 0.6335\n",
            "Epoch 3/20\n",
            "200/200 - 0s - loss: 0.6228 - accuracy: 0.7010\n",
            "Epoch 4/20\n",
            "200/200 - 0s - loss: 0.5900 - accuracy: 0.7325\n",
            "Epoch 5/20\n",
            "200/200 - 0s - loss: 0.5513 - accuracy: 0.7845\n",
            "Epoch 6/20\n",
            "200/200 - 0s - loss: 0.5127 - accuracy: 0.8230\n",
            "Epoch 7/20\n",
            "200/200 - 0s - loss: 0.4764 - accuracy: 0.8360\n",
            "Epoch 8/20\n",
            "200/200 - 0s - loss: 0.4437 - accuracy: 0.8700\n",
            "Epoch 9/20\n",
            "200/200 - 0s - loss: 0.4147 - accuracy: 0.8730\n",
            "Epoch 10/20\n",
            "200/200 - 0s - loss: 0.3889 - accuracy: 0.8850\n",
            "Epoch 11/20\n",
            "200/200 - 0s - loss: 0.3672 - accuracy: 0.9035\n",
            "Epoch 12/20\n",
            "200/200 - 0s - loss: 0.3486 - accuracy: 0.9105\n",
            "Epoch 13/20\n",
            "200/200 - 0s - loss: 0.3331 - accuracy: 0.9185\n",
            "Epoch 14/20\n",
            "200/200 - 0s - loss: 0.3202 - accuracy: 0.9130\n",
            "Epoch 15/20\n",
            "200/200 - 0s - loss: 0.3093 - accuracy: 0.9235\n",
            "Epoch 16/20\n",
            "200/200 - 0s - loss: 0.3005 - accuracy: 0.9295\n",
            "Epoch 17/20\n",
            "200/200 - 0s - loss: 0.2931 - accuracy: 0.9300\n",
            "Epoch 18/20\n",
            "200/200 - 0s - loss: 0.2868 - accuracy: 0.9310\n",
            "Epoch 19/20\n",
            "200/200 - 0s - loss: 0.2816 - accuracy: 0.9315\n",
            "Epoch 20/20\n",
            "200/200 - 0s - loss: 0.2773 - accuracy: 0.9355\n"
          ],
          "name": "stdout"
        },
        {
          "output_type": "execute_result",
          "data": {
            "text/plain": [
              "<tensorflow.python.keras.callbacks.History at 0x7fd530e530b8>"
            ]
          },
          "metadata": {
            "tags": []
          },
          "execution_count": 59
        }
      ]
    },
    {
      "cell_type": "code",
      "metadata": {
        "id": "f19J0khe4Nj4"
      },
      "source": [
        "# Preprocess test data\n",
        "\n",
        "test_labels =  []\n",
        "test_samples = []\n",
        "\n",
        "for i in range(10):\n",
        "    # The 5% of younger individuals who did experience side effects\n",
        "    random_younger = randint(13,64)\n",
        "    test_samples.append(random_younger)\n",
        "    test_labels.append(1)\n",
        "    \n",
        "    # The 5% of older individuals who did not experience side effects\n",
        "    random_older = randint(65,100)\n",
        "    test_samples.append(random_older)\n",
        "    test_labels.append(0)\n",
        "\n",
        "for i in range(200):\n",
        "    # The 95% of younger individuals who did not experience side effects\n",
        "    random_younger = randint(13,64)\n",
        "    test_samples.append(random_younger)\n",
        "    test_labels.append(0)\n",
        "    \n",
        "    # The 95% of older individuals who did experience side effects\n",
        "    random_older = randint(65,100)\n",
        "    test_samples.append(random_older)\n",
        "    test_labels.append(1)\n",
        "    \n",
        "test_labels = np.array(test_labels)\n",
        "test_samples = np.array(test_samples)\n",
        "\n",
        "scaler = MinMaxScaler(feature_range=(0,1))\n",
        "scaled_test_samples = scaler.fit_transform((test_samples).reshape(-1,1))"
      ],
      "execution_count": 60,
      "outputs": []
    },
    {
      "cell_type": "code",
      "metadata": {
        "id": "AzoRNo7N4Nj9"
      },
      "source": [
        "predictions = model.predict(scaled_test_samples, batch_size=10, verbose=0) "
      ],
      "execution_count": 61,
      "outputs": []
    },
    {
      "cell_type": "code",
      "metadata": {
        "colab": {
          "base_uri": "https://localhost:8080/"
        },
        "id": "Isab4zd64NkB",
        "outputId": "af150457-db12-4811-f63b-b3a0cf01c74c"
      },
      "source": [
        "for i in predictions:\n",
        "    print(i)"
      ],
      "execution_count": 62,
      "outputs": [
        {
          "output_type": "stream",
          "text": [
            "[0.8396756  0.20537189]\n",
            "[0.47601283 0.62581825]\n",
            "[0.8201424 0.2309767]\n",
            "[0.24822277 0.8319247 ]\n",
            "[0.84008074 0.20490628]\n",
            "[0.24400556 0.83646727]\n",
            "[0.84008074 0.20490628]\n",
            "[0.20540431 0.8756952 ]\n",
            "[0.80332506 0.25334734]\n",
            "[0.201875  0.8790647]\n",
            "[0.55544436 0.5442533 ]\n",
            "[0.4627835  0.63886905]\n",
            "[0.5290808 0.5719368]\n",
            "[0.28022534 0.8041321 ]\n",
            "[0.5290808 0.5719368]\n",
            "[0.21259955 0.86871445]\n",
            "[0.80332506 0.25334734]\n",
            "[0.23983708 0.84091043]\n",
            "[0.77232087 0.29319704]\n",
            "[0.43649966 0.6643497 ]\n",
            "[0.8381461  0.20677364]\n",
            "[0.21997699 0.8614038 ]\n",
            "[0.8334788 0.2112244]\n",
            "[0.5158286  0.58562243]\n",
            "[0.83794665 0.20675549]\n",
            "[0.3129049 0.7762839]\n",
            "[0.63214016 0.46024317]\n",
            "[0.23983708 0.84091043]\n",
            "[0.80332506 0.25334734]\n",
            "[0.29069486 0.7951654 ]\n",
            "[0.83284426 0.21185091]\n",
            "[0.5158286  0.58562243]\n",
            "[0.83599794 0.20873204]\n",
            "[0.33618662 0.7561821 ]\n",
            "[0.59436774 0.5022642 ]\n",
            "[0.3244372 0.7663833]\n",
            "[0.63214016 0.46024317]\n",
            "[0.24822277 0.8319247 ]\n",
            "[0.6197035  0.47421703]\n",
            "[0.2162655 0.865101 ]\n",
            "[0.8353647  0.20933887]\n",
            "[0.29069486 0.7951654 ]\n",
            "[0.8381461  0.20677364]\n",
            "[0.3602922  0.73489076]\n",
            "[0.77232087 0.29319704]\n",
            "[0.3244372 0.7663833]\n",
            "[0.83187807 0.21491334]\n",
            "[0.4105677 0.6889081]\n",
            "[0.8338637  0.21152234]\n",
            "[0.38512343 0.7124473 ]\n",
            "[0.8365643  0.20821217]\n",
            "[0.44960642 0.6517178 ]\n",
            "[0.7243941  0.35240483]\n",
            "[0.2162655 0.865101 ]\n",
            "[0.83284426 0.21185091]\n",
            "[0.29069486 0.7951654 ]\n",
            "[0.7026868  0.37843302]\n",
            "[0.4892759  0.61258185]\n",
            "[0.8396756  0.20537189]\n",
            "[0.23983708 0.84091043]\n",
            "[0.7026868  0.37843302]\n",
            "[0.2162655 0.865101 ]\n",
            "[0.63214016 0.46024317]\n",
            "[0.4892759  0.61258185]\n",
            "[0.8353711  0.20935312]\n",
            "[0.23164734 0.8495028 ]\n",
            "[0.8338637  0.21152234]\n",
            "[0.27000415 0.8127705 ]\n",
            "[0.63214016 0.46024317]\n",
            "[0.27000415 0.8127705 ]\n",
            "[0.6564802  0.43250352]\n",
            "[0.21259955 0.86871445]\n",
            "[0.76405245 0.30371392]\n",
            "[0.24400556 0.83646727]\n",
            "[0.7882377 0.2728178]\n",
            "[0.4105677 0.6889081]\n",
            "[0.8353711  0.20935312]\n",
            "[0.34814218 0.74568325]\n",
            "[0.8370929  0.20773181]\n",
            "[0.24400556 0.83646727]\n",
            "[0.83474225 0.20997554]\n",
            "[0.423481   0.67675066]\n",
            "[0.75504845 0.31498718]\n",
            "[0.43649966 0.6643497 ]\n",
            "[0.8381461  0.20677364]\n",
            "[0.2089791  0.87224555]\n",
            "[0.59436774 0.5022642 ]\n",
            "[0.4627835  0.63886905]\n",
            "[0.79588497 0.2629667 ]\n",
            "[0.29069486 0.7951654 ]\n",
            "[0.66835785 0.41877985]\n",
            "[0.3129049 0.7762839]\n",
            "[0.66835785 0.41877985]\n",
            "[0.423481   0.67675066]\n",
            "[0.8396756  0.20537189]\n",
            "[0.24400556 0.83646727]\n",
            "[0.83474225 0.20997554]\n",
            "[0.23164734 0.8495028 ]\n",
            "[0.7243941  0.35240483]\n",
            "[0.47601283 0.62581825]\n",
            "[0.8381461  0.20677364]\n",
            "[0.38512343 0.7124473 ]\n",
            "[0.7026868  0.37843302]\n",
            "[0.3244372 0.7663833]\n",
            "[0.8341116  0.21059927]\n",
            "[0.37262386 0.7238099 ]\n",
            "[0.8353647  0.20933887]\n",
            "[0.37262386 0.7238099 ]\n",
            "[0.8334788 0.2112244]\n",
            "[0.3244372 0.7663833]\n",
            "[0.8341116  0.21059927]\n",
            "[0.33618662 0.7561821 ]\n",
            "[0.839895   0.20511955]\n",
            "[0.23983708 0.84091043]\n",
            "[0.6800249  0.40518075]\n",
            "[0.4105677 0.6889081]\n",
            "[0.8365643  0.20821217]\n",
            "[0.21997699 0.8614038 ]\n",
            "[0.8365643  0.20821217]\n",
            "[0.5158286  0.58562243]\n",
            "[0.8334788 0.2112244]\n",
            "[0.33618662 0.7561821 ]\n",
            "[0.74509156 0.32722443]\n",
            "[0.423481   0.67675066]\n",
            "[0.73487186 0.33970135]\n",
            "[0.23164734 0.8495028 ]\n",
            "[0.76405245 0.30371392]\n",
            "[0.21259955 0.86871445]\n",
            "[0.76405245 0.30371392]\n",
            "[0.39777654 0.7008103 ]\n",
            "[0.8334788 0.2112244]\n",
            "[0.24822277 0.8319247 ]\n",
            "[0.79588497 0.2629667 ]\n",
            "[0.2162655 0.865101 ]\n",
            "[0.79588497 0.2629667 ]\n",
            "[0.4627835  0.63886905]\n",
            "[0.7136636  0.36532056]\n",
            "[0.21259955 0.86871445]\n",
            "[0.7026868  0.37843302]\n",
            "[0.20540431 0.8756952 ]\n",
            "[0.8148639  0.23800778]\n",
            "[0.2162655 0.865101 ]\n",
            "[0.83794665 0.20675549]\n",
            "[0.24822277 0.8319247 ]\n",
            "[0.8338637  0.21152234]\n",
            "[0.26106232 0.82048786]\n",
            "[0.8381461  0.20677364]\n",
            "[0.33618662 0.7561821 ]\n",
            "[0.6800249  0.40518075]\n",
            "[0.5158286  0.58562243]\n",
            "[0.8391937  0.20581865]\n",
            "[0.2089791  0.87224555]\n",
            "[0.7882377 0.2728178]\n",
            "[0.23983708 0.84091043]\n",
            "[0.6444035  0.44633156]\n",
            "[0.44960642 0.6517178 ]\n",
            "[0.83599794 0.20873204]\n",
            "[0.28022534 0.8041321 ]\n",
            "[0.83187807 0.21491334]\n",
            "[0.43649966 0.6643497 ]\n",
            "[0.5290808 0.5719368]\n",
            "[0.39777654 0.7008103 ]\n",
            "[0.5814995  0.51629347]\n",
            "[0.22373402 0.857622  ]\n",
            "[0.75504845 0.31498718]\n",
            "[0.38512343 0.7124473 ]\n",
            "[0.839193   0.20569468]\n",
            "[0.23164734 0.8495028 ]\n",
            "[0.79588497 0.2629667 ]\n",
            "[0.4892759  0.61258185]\n",
            "[0.83599794 0.20873204]\n",
            "[0.3015995  0.78588223]\n",
            "[0.77232087 0.29319704]\n",
            "[0.38512343 0.7124473 ]\n",
            "[0.5814995  0.51629347]\n",
            "[0.2357176 0.8452554]\n",
            "[0.8370929  0.20773181]\n",
            "[0.24822277 0.8319247 ]\n",
            "[0.8341116  0.21059927]\n",
            "[0.24400556 0.83646727]\n",
            "[0.76405245 0.30371392]\n",
            "[0.4105677 0.6889081]\n",
            "[0.74509156 0.32722443]\n",
            "[0.4627835  0.63886905]\n",
            "[0.55544436 0.5442533 ]\n",
            "[0.26106232 0.82048786]\n",
            "[0.83794665 0.20675549]\n",
            "[0.3015995  0.78588223]\n",
            "[0.839193   0.20569468]\n",
            "[0.26106232 0.82048786]\n",
            "[0.8381461  0.20677364]\n",
            "[0.23983708 0.84091043]\n",
            "[0.83284426 0.21185091]\n",
            "[0.23164734 0.8495028 ]\n",
            "[0.6444035  0.44633156]\n",
            "[0.4105677 0.6889081]\n",
            "[0.6800249  0.40518075]\n",
            "[0.47601283 0.62581825]\n",
            "[0.8353647  0.20933887]\n",
            "[0.47601283 0.62581825]\n",
            "[0.8365643  0.20821217]\n",
            "[0.4627835  0.63886905]\n",
            "[0.8391937  0.20581865]\n",
            "[0.3602922  0.73489076]\n",
            "[0.73487186 0.33970135]\n",
            "[0.502554   0.59917724]\n",
            "[0.6197035  0.47421703]\n",
            "[0.27000415 0.8127705 ]\n",
            "[0.8391937  0.20581865]\n",
            "[0.21997699 0.8614038 ]\n",
            "[0.8094783 0.2452263]\n",
            "[0.22373402 0.857622  ]\n",
            "[0.7026868  0.37843302]\n",
            "[0.44960642 0.6517178 ]\n",
            "[0.83794665 0.20675549]\n",
            "[0.2089791  0.87224555]\n",
            "[0.8293313 0.2188335]\n",
            "[0.24822277 0.8319247 ]\n",
            "[0.7136636  0.36532056]\n",
            "[0.4105677 0.6889081]\n",
            "[0.75504845 0.31498718]\n",
            "[0.3244372 0.7663833]\n",
            "[0.839895   0.20511955]\n",
            "[0.24822277 0.8319247 ]\n",
            "[0.5814995  0.51629347]\n",
            "[0.28022534 0.8041321 ]\n",
            "[0.839193   0.20569468]\n",
            "[0.423481   0.67675066]\n",
            "[0.66835785 0.41877985]\n",
            "[0.27000415 0.8127705 ]\n",
            "[0.8334788 0.2112244]\n",
            "[0.3602922  0.73489076]\n",
            "[0.5814995  0.51629347]\n",
            "[0.34814218 0.74568325]\n",
            "[0.8148639  0.23800778]\n",
            "[0.34814218 0.74568325]\n",
            "[0.8338637  0.21152234]\n",
            "[0.24822277 0.8319247 ]\n",
            "[0.74509156 0.32722443]\n",
            "[0.20540431 0.8756952 ]\n",
            "[0.8396756  0.20537189]\n",
            "[0.4892759  0.61258185]\n",
            "[0.76405245 0.30371392]\n",
            "[0.24400556 0.83646727]\n",
            "[0.54229224 0.55814016]\n",
            "[0.29069486 0.7951654 ]\n",
            "[0.7243941  0.35240483]\n",
            "[0.423481   0.67675066]\n",
            "[0.6800249  0.40518075]\n",
            "[0.22373402 0.857622  ]\n",
            "[0.8353711  0.20935312]\n",
            "[0.21997699 0.8614038 ]\n",
            "[0.83669263 0.20782039]\n",
            "[0.502554   0.59917724]\n",
            "[0.59436774 0.5022642 ]\n",
            "[0.24822277 0.8319247 ]\n",
            "[0.7882377 0.2728178]\n",
            "[0.23983708 0.84091043]\n",
            "[0.7136636  0.36532056]\n",
            "[0.39777654 0.7008103 ]\n",
            "[0.6197035  0.47421703]\n",
            "[0.5158286  0.58562243]\n",
            "[0.8376202  0.20725235]\n",
            "[0.4627835  0.63886905]\n",
            "[0.82525873 0.22426432]\n",
            "[0.3244372 0.7663833]\n",
            "[0.8338637  0.21152234]\n",
            "[0.3129049 0.7762839]\n",
            "[0.839193   0.20569468]\n",
            "[0.27000415 0.8127705 ]\n",
            "[0.8353647  0.20933887]\n",
            "[0.4627835  0.63886905]\n",
            "[0.7136636  0.36532056]\n",
            "[0.423481   0.67675066]\n",
            "[0.8353647  0.20933887]\n",
            "[0.26106232 0.82048786]\n",
            "[0.83669263 0.20782039]\n",
            "[0.28022534 0.8041321 ]\n",
            "[0.8341116  0.21059927]\n",
            "[0.39777654 0.7008103 ]\n",
            "[0.7803829  0.28289628]\n",
            "[0.423481   0.67675066]\n",
            "[0.7803829  0.28289628]\n",
            "[0.44960642 0.6517178 ]\n",
            "[0.8148639  0.23800778]\n",
            "[0.38512343 0.7124473 ]\n",
            "[0.83794665 0.20675549]\n",
            "[0.43649966 0.6643497 ]\n",
            "[0.6914711  0.39172557]\n",
            "[0.201875  0.8790647]\n",
            "[0.839193   0.20569468]\n",
            "[0.22373402 0.857622  ]\n",
            "[0.6564802  0.43250352]\n",
            "[0.3244372 0.7663833]\n",
            "[0.8386706 0.2062957]\n",
            "[0.423481   0.67675066]\n",
            "[0.839193   0.20569468]\n",
            "[0.423481   0.67675066]\n",
            "[0.8376202  0.20725235]\n",
            "[0.23983708 0.84091043]\n",
            "[0.6444035  0.44633156]\n",
            "[0.37262386 0.7238099 ]\n",
            "[0.7882377 0.2728178]\n",
            "[0.23983708 0.84091043]\n",
            "[0.8365643  0.20821217]\n",
            "[0.4105677 0.6889081]\n",
            "[0.6197035  0.47421703]\n",
            "[0.2276265 0.8536539]\n",
            "[0.74509156 0.32722443]\n",
            "[0.44960642 0.6517178 ]\n",
            "[0.8338637  0.21152234]\n",
            "[0.26106232 0.82048786]\n",
            "[0.66835785 0.41877985]\n",
            "[0.502554   0.59917724]\n",
            "[0.839895   0.20511955]\n",
            "[0.23983708 0.84091043]\n",
            "[0.8148639  0.23800778]\n",
            "[0.29069486 0.7951654 ]\n",
            "[0.83669263 0.20782039]\n",
            "[0.47601283 0.62581825]\n",
            "[0.8386706 0.2062957]\n",
            "[0.24822277 0.8319247 ]\n",
            "[0.83599794 0.20873204]\n",
            "[0.34814218 0.74568325]\n",
            "[0.6914711  0.39172557]\n",
            "[0.44960642 0.6517178 ]\n",
            "[0.8334788 0.2112244]\n",
            "[0.4627835  0.63886905]\n",
            "[0.77232087 0.29319704]\n",
            "[0.23983708 0.84091043]\n",
            "[0.75504845 0.31498718]\n",
            "[0.47601283 0.62581825]\n",
            "[0.84008074 0.20490628]\n",
            "[0.2089791  0.87224555]\n",
            "[0.7803829  0.28289628]\n",
            "[0.27000415 0.8127705 ]\n",
            "[0.6444035  0.44633156]\n",
            "[0.24822277 0.8319247 ]\n",
            "[0.66835785 0.41877985]\n",
            "[0.22373402 0.857622  ]\n",
            "[0.77232087 0.29319704]\n",
            "[0.47601283 0.62581825]\n",
            "[0.7882377 0.2728178]\n",
            "[0.3244372 0.7663833]\n",
            "[0.6564802  0.43250352]\n",
            "[0.34814218 0.74568325]\n",
            "[0.80332506 0.25334734]\n",
            "[0.43649966 0.6643497 ]\n",
            "[0.83187807 0.21491334]\n",
            "[0.4892759  0.61258185]\n",
            "[0.8365643  0.20821217]\n",
            "[0.2538378  0.82672155]\n",
            "[0.8094783 0.2452263]\n",
            "[0.4105677 0.6889081]\n",
            "[0.63214016 0.46024317]\n",
            "[0.37262386 0.7238099 ]\n",
            "[0.83474225 0.20997554]\n",
            "[0.37262386 0.7238099 ]\n",
            "[0.7243941  0.35240483]\n",
            "[0.423481   0.67675066]\n",
            "[0.6914711  0.39172557]\n",
            "[0.22373402 0.857622  ]\n",
            "[0.8396756  0.20537189]\n",
            "[0.24822277 0.8319247 ]\n",
            "[0.75504845 0.31498718]\n",
            "[0.3129049 0.7762839]\n",
            "[0.76405245 0.30371392]\n",
            "[0.47601283 0.62581825]\n",
            "[0.76405245 0.30371392]\n",
            "[0.44960642 0.6517178 ]\n",
            "[0.8370929  0.20773181]\n",
            "[0.502554   0.59917724]\n",
            "[0.8396756  0.20537189]\n",
            "[0.34814218 0.74568325]\n",
            "[0.839895   0.20511955]\n",
            "[0.3244372 0.7663833]\n",
            "[0.7803829  0.28289628]\n",
            "[0.2357176 0.8452554]\n",
            "[0.8148639  0.23800778]\n",
            "[0.2276265 0.8536539]\n",
            "[0.8353711  0.20935312]\n",
            "[0.21259955 0.86871445]\n",
            "[0.8376202  0.20725235]\n",
            "[0.23983708 0.84091043]\n",
            "[0.74509156 0.32722443]\n",
            "[0.3015995  0.78588223]\n",
            "[0.6800249  0.40518075]\n",
            "[0.4627835  0.63886905]\n",
            "[0.75504845 0.31498718]\n",
            "[0.27000415 0.8127705 ]\n",
            "[0.8365643  0.20821217]\n",
            "[0.24822277 0.8319247 ]\n",
            "[0.7243941  0.35240483]\n",
            "[0.47601283 0.62581825]\n",
            "[0.8094783 0.2452263]\n",
            "[0.4627835  0.63886905]\n",
            "[0.54229224 0.55814016]\n",
            "[0.502554   0.59917724]\n",
            "[0.8201424 0.2309767]\n",
            "[0.21997699 0.8614038 ]\n",
            "[0.8334788 0.2112244]\n",
            "[0.2089791  0.87224555]\n",
            "[0.6564802  0.43250352]\n",
            "[0.43649966 0.6643497 ]\n",
            "[0.55544436 0.5442533 ]\n",
            "[0.3015995  0.78588223]\n",
            "[0.7243941  0.35240483]\n",
            "[0.44960642 0.6517178 ]\n",
            "[0.8386706 0.2062957]\n",
            "[0.37262386 0.7238099 ]\n",
            "[0.6071077 0.4882313]\n",
            "[0.43649966 0.6643497 ]\n",
            "[0.73487186 0.33970135]\n",
            "[0.27000415 0.8127705 ]\n",
            "[0.5814995  0.51629347]\n",
            "[0.2162655 0.865101 ]\n",
            "[0.7136636  0.36532056]\n",
            "[0.201875  0.8790647]\n",
            "[0.83669263 0.20782039]\n",
            "[0.39777654 0.7008103 ]\n"
          ],
          "name": "stdout"
        }
      ]
    },
    {
      "cell_type": "markdown",
      "metadata": {
        "id": "G1PNgBXk4Njm"
      },
      "source": [
        "## Batch Size"
      ]
    },
    {
      "cell_type": "code",
      "metadata": {
        "colab": {
          "base_uri": "https://localhost:8080/"
        },
        "collapsed": true,
        "id": "84NxZ7CO4Njm",
        "outputId": "8c6fdf77-1af3-45c6-e79a-1f214b964e05"
      },
      "source": [
        "model.fit(scaled_train_samples, train_labels, validation_split = 0.20, batch_size=10, \n",
        "          epochs=20, shuffle=True, verbose=2)"
      ],
      "execution_count": 63,
      "outputs": [
        {
          "output_type": "stream",
          "text": [
            "Epoch 1/20\n",
            "160/160 - 0s - loss: 0.3010 - accuracy: 0.9300 - val_loss: 0.1648 - val_accuracy: 0.9825\n",
            "Epoch 2/20\n",
            "160/160 - 0s - loss: 0.2994 - accuracy: 0.9244 - val_loss: 0.1626 - val_accuracy: 0.9825\n",
            "Epoch 3/20\n",
            "160/160 - 0s - loss: 0.2979 - accuracy: 0.9269 - val_loss: 0.1593 - val_accuracy: 0.9825\n",
            "Epoch 4/20\n",
            "160/160 - 0s - loss: 0.2964 - accuracy: 0.9319 - val_loss: 0.1559 - val_accuracy: 0.9825\n",
            "Epoch 5/20\n",
            "160/160 - 0s - loss: 0.2953 - accuracy: 0.9281 - val_loss: 0.1543 - val_accuracy: 0.9975\n",
            "Epoch 6/20\n",
            "160/160 - 0s - loss: 0.2938 - accuracy: 0.9300 - val_loss: 0.1510 - val_accuracy: 0.9825\n",
            "Epoch 7/20\n",
            "160/160 - 0s - loss: 0.2933 - accuracy: 0.9275 - val_loss: 0.1484 - val_accuracy: 0.9825\n",
            "Epoch 8/20\n",
            "160/160 - 0s - loss: 0.2920 - accuracy: 0.9281 - val_loss: 0.1470 - val_accuracy: 0.9825\n",
            "Epoch 9/20\n",
            "160/160 - 0s - loss: 0.2910 - accuracy: 0.9287 - val_loss: 0.1458 - val_accuracy: 0.9975\n",
            "Epoch 10/20\n",
            "160/160 - 0s - loss: 0.2900 - accuracy: 0.9319 - val_loss: 0.1438 - val_accuracy: 0.9975\n",
            "Epoch 11/20\n",
            "160/160 - 0s - loss: 0.2893 - accuracy: 0.9319 - val_loss: 0.1422 - val_accuracy: 0.9975\n",
            "Epoch 12/20\n",
            "160/160 - 0s - loss: 0.2885 - accuracy: 0.9294 - val_loss: 0.1407 - val_accuracy: 0.9975\n",
            "Epoch 13/20\n",
            "160/160 - 0s - loss: 0.2878 - accuracy: 0.9319 - val_loss: 0.1390 - val_accuracy: 0.9975\n",
            "Epoch 14/20\n",
            "160/160 - 0s - loss: 0.2870 - accuracy: 0.9294 - val_loss: 0.1383 - val_accuracy: 0.9975\n",
            "Epoch 15/20\n",
            "160/160 - 0s - loss: 0.2864 - accuracy: 0.9319 - val_loss: 0.1367 - val_accuracy: 0.9975\n",
            "Epoch 16/20\n",
            "160/160 - 0s - loss: 0.2856 - accuracy: 0.9281 - val_loss: 0.1357 - val_accuracy: 0.9975\n",
            "Epoch 17/20\n",
            "160/160 - 0s - loss: 0.2849 - accuracy: 0.9312 - val_loss: 0.1352 - val_accuracy: 0.9975\n",
            "Epoch 18/20\n",
            "160/160 - 0s - loss: 0.2843 - accuracy: 0.9319 - val_loss: 0.1335 - val_accuracy: 0.9975\n",
            "Epoch 19/20\n",
            "160/160 - 0s - loss: 0.2837 - accuracy: 0.9312 - val_loss: 0.1327 - val_accuracy: 0.9975\n",
            "Epoch 20/20\n",
            "160/160 - 0s - loss: 0.2831 - accuracy: 0.9319 - val_loss: 0.1318 - val_accuracy: 0.9975\n"
          ],
          "name": "stdout"
        },
        {
          "output_type": "execute_result",
          "data": {
            "text/plain": [
              "<tensorflow.python.keras.callbacks.History at 0x7fd530e3cc88>"
            ]
          },
          "metadata": {
            "tags": []
          },
          "execution_count": 63
        }
      ]
    },
    {
      "cell_type": "markdown",
      "metadata": {
        "id": "cjA42ozm4NkT"
      },
      "source": [
        "## Supervised Learning"
      ]
    },
    {
      "cell_type": "code",
      "metadata": {
        "id": "9HQfI7DH4NkT"
      },
      "source": [
        "import keras\n",
        "from keras import backend as K\n",
        "from keras.models import Sequential\n",
        "from keras.layers import Activation\n",
        "from keras.layers.core import Dense\n",
        "from keras.optimizers import Adam"
      ],
      "execution_count": 64,
      "outputs": []
    },
    {
      "cell_type": "code",
      "metadata": {
        "id": "JnDQ5RPs4Nks"
      },
      "source": [
        "model = Sequential([\n",
        "    Dense(16, input_shape=(2,), activation='relu'),\n",
        "    Dense(32, activation='relu'),\n",
        "    Dense(2, activation='sigmoid')\n",
        "])"
      ],
      "execution_count": 65,
      "outputs": []
    },
    {
      "cell_type": "code",
      "metadata": {
        "id": "S0rlICBR4NlB"
      },
      "source": [
        "model.compile(Adam(lr=0.0001), loss='sparse_categorical_crossentropy', metrics=['accuracy'])"
      ],
      "execution_count": 66,
      "outputs": []
    },
    {
      "cell_type": "code",
      "metadata": {
        "id": "lnzo__rO4NlD"
      },
      "source": [
        "# weight, height\n",
        "train_samples = [[150, 67], [130, 60], [200, 65], [125, 52], [230, 72], [181, 70]]"
      ],
      "execution_count": 67,
      "outputs": []
    },
    {
      "cell_type": "code",
      "metadata": {
        "id": "Cdqi-m_w4NlL"
      },
      "source": [
        "# 0: male\n",
        "# 1: female\n",
        "train_labels = [1, 1, 0, 1, 0, 0]"
      ],
      "execution_count": 68,
      "outputs": []
    },
    {
      "cell_type": "code",
      "metadata": {
        "colab": {
          "base_uri": "https://localhost:8080/"
        },
        "id": "lv1jrxfF4NlQ",
        "outputId": "61f8074b-28cb-4cdb-984a-e3ef1906cc82"
      },
      "source": [
        "model.fit(x=train_samples, y=train_labels, batch_size=3, epochs=10, shuffle=True, verbose=2)"
      ],
      "execution_count": 69,
      "outputs": [
        {
          "output_type": "stream",
          "text": [
            "Epoch 1/10\n",
            "2/2 - 0s - loss: 22.0710 - accuracy: 0.5000\n",
            "Epoch 2/10\n",
            "2/2 - 0s - loss: 21.5403 - accuracy: 0.5000\n",
            "Epoch 3/10\n",
            "2/2 - 0s - loss: 21.1071 - accuracy: 0.5000\n",
            "Epoch 4/10\n",
            "2/2 - 0s - loss: 20.4968 - accuracy: 0.5000\n",
            "Epoch 5/10\n",
            "2/2 - 0s - loss: 19.9592 - accuracy: 0.5000\n",
            "Epoch 6/10\n",
            "2/2 - 0s - loss: 19.4322 - accuracy: 0.5000\n",
            "Epoch 7/10\n",
            "2/2 - 0s - loss: 18.9043 - accuracy: 0.5000\n",
            "Epoch 8/10\n",
            "2/2 - 0s - loss: 18.4636 - accuracy: 0.5000\n",
            "Epoch 9/10\n",
            "2/2 - 0s - loss: 17.9136 - accuracy: 0.5000\n",
            "Epoch 10/10\n",
            "2/2 - 0s - loss: 17.3904 - accuracy: 0.5000\n"
          ],
          "name": "stdout"
        },
        {
          "output_type": "execute_result",
          "data": {
            "text/plain": [
              "<tensorflow.python.keras.callbacks.History at 0x7fd531e92b00>"
            ]
          },
          "metadata": {
            "tags": []
          },
          "execution_count": 69
        }
      ]
    }
  ]
}